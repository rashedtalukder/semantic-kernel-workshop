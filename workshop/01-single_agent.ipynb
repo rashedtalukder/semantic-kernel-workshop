{
 "cells": [
  {
   "cell_type": "markdown",
   "id": "1b4e4f13",
   "metadata": {},
   "source": [
    "# 01 – Single Agent\n",
    "Create a basic chat agent with Azure OpenAI."
   ]
  },
  {
   "cell_type": "code",
   "execution_count": null,
   "id": "56c9d9e1",
   "metadata": {},
   "outputs": [],
   "source": [
    "from semantic_kernel.agents import ChatCompletionAgent\n",
    "from semantic_kernel.connectors.ai.open_ai import AzureChatCompletion"
   ]
  },
  {
   "cell_type": "code",
   "execution_count": null,
   "id": "1e5ee02c",
   "metadata": {},
   "outputs": [],
   "source": [
    "agent = ChatCompletionAgent(\n",
    "    service=AzureChatCompletion(),\n",
    "    name=\"CustomerServiceAgent\",\n",
    "    instructions=\"You are a helpful mobile carrier customer service assistant.\"\n",
    ")"
   ]
  },
  {
   "cell_type": "code",
   "execution_count": null,
   "id": "cbd4dbff",
   "metadata": {},
   "outputs": [],
   "source": [
    "response = await agent.get_response(messages=\"What number do I call on my mobile phone to reach customer support?\")\n",
    "print(response.content)"
   ]
  }
 ],
 "metadata": {
  "kernelspec": {
   "display_name": "agents",
   "language": "python",
   "name": "python3"
  },
  "language_info": {
   "codemirror_mode": {
    "name": "ipython",
    "version": 3
   },
   "file_extension": ".py",
   "mimetype": "text/x-python",
   "name": "python",
   "nbconvert_exporter": "python",
   "pygments_lexer": "ipython3",
   "version": "3.12.9"
  }
 },
 "nbformat": 4,
 "nbformat_minor": 5
}
