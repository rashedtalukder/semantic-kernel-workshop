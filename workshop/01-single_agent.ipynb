{
 "cells": [
  {
   "cell_type": "markdown",
   "id": "1b4e4f13",
   "metadata": {},
   "source": [
    "# Mobile Carrier Customer Service Agent\n",
    "This notebook demonstrates how to create a simple customer service chat agent for a mobile carrier using Azure OpenAI and **Semantic Kernel**. Configuration is loaded from the `.env` file."
   ]
  },
  {
   "cell_type": "code",
   "execution_count": null,
   "id": "56c9d9e1",
   "metadata": {},
   "outputs": [],
   "source": [
    "from typing import Annotated\n",
    "from pydantic import BaseModel\n",
    "from semantic_kernel.agents import ChatCompletionAgent\n",
    "from semantic_kernel.connectors.ai.open_ai import AzureChatCompletion\n",
    "from semantic_kernel.contents.chat_message_content import ChatMessageContent"
   ]
  },
  {
   "cell_type": "markdown",
   "id": "16231b09",
   "metadata": {},
   "source": [
    "Create a single agent with the \"instructions\" as this agent's system prompt."
   ]
  },
  {
   "cell_type": "code",
   "execution_count": null,
   "id": "1e5ee02c",
   "metadata": {},
   "outputs": [],
   "source": [
    "customer_service_agent_name = \"Customer-Service-Agent\"\n",
    "cs_agent = ChatCompletionAgent(\n",
    "        service=AzureChatCompletion(),\n",
    "        name=customer_service_agent_name,\n",
    "        instructions=\"You are a helpful and efficient customer service assistant for a mobile phone carrier. \"\n",
    "        \"Assist users with questions about their plans, billing, device support, and service issues. \"\n",
    "        \"Be concise, friendly, and provide clear next steps. If the customer does not provide a phone number, \"\n",
    "        \"ask for it to look up their account. If the customer provides a phone number, use it to look up their account.\",\n",
    "    )"
   ]
  },
  {
   "cell_type": "code",
   "execution_count": null,
   "id": "4c025ad9",
   "metadata": {},
   "outputs": [],
   "source": [
    "# Example user message\n",
    "user_message = \"Hi, what number do I call to speak to T-Mobile customer service?\""
   ]
  },
  {
   "cell_type": "code",
   "execution_count": null,
   "id": "cbd4dbff",
   "metadata": {},
   "outputs": [],
   "source": [
    "response = await cs_agent.get_response(messages=user_message)\n",
    "print(response.content)"
   ]
  }
 ],
 "metadata": {
  "kernelspec": {
   "display_name": "agents",
   "language": "python",
   "name": "python3"
  },
  "language_info": {
   "name": "python",
   "version": "3.12.9"
  }
 },
 "nbformat": 4,
 "nbformat_minor": 5
}
