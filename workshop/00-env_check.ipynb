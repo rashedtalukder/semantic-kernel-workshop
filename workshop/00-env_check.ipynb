{
 "cells": [
  {
   "cell_type": "markdown",
   "id": "53dab569",
   "metadata": {},
   "source": [
    "# Environment Configuration Check\n",
    "This notebook will ensure your environment is properly configured for Azure AI Foundry.\n",
    "\n",
    "## Instructions for Filling Out .env Variables\n",
    "In a `../.env` file, fill in the values for each variable. You can find the values in the [Azure AI Foundry portal](https://ai.azure.com/) after you've created a project, and deployed a gpt + embeddings model as follows:\n",
    "\n",
    "- **GLOBAL_LLM_SERVICE**: Either `AzureOpenAI`, `OpenAI`, or `HuggingFace `.\n",
    "- **AZURE_AI_PROJECT_NAME**: At the top of the _Overview_ page for your AI Foundry project.\n",
    "- **AZURE_SUBSCRIPTION_ID**: On the _Overview_ page of your project within _Project details_.\n",
    "- **PROJECT_CONNECTION_STRING**: On the _Overview_ page of your project within _Project details_.\n",
    "- **AZURE_OPENAI_SERVICE_ENDPOINT**: On the _Overview_ page of your project in the _Included capabilities_ tab for Azure OpenAI Service.\n",
    "\n",
    "- **AZURE_OPENAI_ENDPOINT**: On the _Models+endpoints_ page within your AI Foundry project. \n",
    "- **AZURE_OPENAI_API_KEY**: On the _Models+endpoints_ page within your AI Foundry project.\n",
    "- **AZURE_OPENAI_EMBEDDING_DEPLOYMENT_NAME**: On the _Models+endpoints_ page within your AI Foundry project.\n",
    "- **AZURE_OPENAI_CHAT_DEPLOYMENT_NAME**: On the _Models+endpoints_ page within your AI Foundry project.\n",
    "\n",
    "- **AZURE_OPENAI_RESOURCE_GROUP**: On the _Overview_ page of the _Management Center_ within Project properties.\n",
    "\n",
    "- **AZURE_OPENAI_API_VERSION**: On the [API version lifecycle](https://learn.microsoft.com/en-us/azure/ai-services/openai/api-version-deprecation#latest-preview-api-releasese) docs with the latest preview or GA that supports all features in this workshop.\n"
   ]
  },
  {
   "cell_type": "code",
   "execution_count": 4,
   "id": "a5953638",
   "metadata": {},
   "outputs": [
    {
     "name": "stdout",
     "output_type": "stream",
     "text": [
      ".env file found in parent directory.\n",
      "All required environment variables are set and non-empty.\n"
     ]
    }
   ],
   "source": [
    "import os\n",
    "from shutil import copyfile\n",
    "from dotenv import load_dotenv\n",
    "\n",
    "# Define paths\n",
    "# Use parent directory for .env and sample.env\n",
    "parent_dir = os.path.dirname(os.getcwd())\n",
    "env_path = os.path.join(parent_dir, '.env')\n",
    "sample_env_path = os.path.join(parent_dir, 'sample.env')\n",
    "\n",
    "# Check for .env file, copy from sample.env if missing\n",
    "if not os.path.exists(env_path):\n",
    "    if os.path.exists(sample_env_path):\n",
    "        copyfile(sample_env_path, env_path)\n",
    "        print(\".env file created from sample.env in parent directory. Please fill in the required values.\")\n",
    "    else:\n",
    "        print(\"sample.env not found in parent directory. Please provide a .env file.\")\n",
    "else:\n",
    "    print(\".env file found in parent directory.\")\n",
    "\n",
    "# Load environment variables\n",
    "load_dotenv(env_path)\n",
    "\n",
    "# List of required environment variables\n",
    "required_vars = [\n",
    "    'AZURE_SUBSCRIPTION_ID',\n",
    "    'AZURE_AI_PROJECT_NAME',\n",
    "    'AZURE_OPENAI_RESOURCE_GROUP',\n",
    "    'AZURE_OPENAI_SERVICE_ENDPOINT',\n",
    "    'AZURE_OPENAI_API_VERSION',\n",
    "    'AZURE_OPENAI_ENDPOINT',\n",
    "    'GLOBAL_LLM_SERVICE',\n",
    "    'AZURE_OPENAI_API_KEY',\n",
    "    'AZURE_OPENAI_EMBEDDING_DEPLOYMENT_NAME',\n",
    "    'AZURE_OPENAI_CHAT_DEPLOYMENT_NAME',\n",
    "    'PROJECT_CONNECTION_STRING'\n",
    "]\n",
    "\n",
    "# Validate that each variable is set and not None/null or empty string\n",
    "missing_or_empty = []\n",
    "for var in required_vars:\n",
    "    value = os.getenv(var)\n",
    "    if value is None or str(value).strip() == '':\n",
    "        missing_or_empty.append(var)\n",
    "\n",
    "if missing_or_empty:\n",
    "    print(f\"The following environment variables are missing or empty: {missing_or_empty}\")\n",
    "else:\n",
    "    print(\"All required environment variables are set and non-empty.\")"
   ]
  }
 ],
 "metadata": {
  "kernelspec": {
   "display_name": "agents",
   "language": "python",
   "name": "python3"
  },
  "language_info": {
   "codemirror_mode": {
    "name": "ipython",
    "version": 3
   },
   "file_extension": ".py",
   "mimetype": "text/x-python",
   "name": "python",
   "nbconvert_exporter": "python",
   "pygments_lexer": "ipython3",
   "version": "3.12.9"
  }
 },
 "nbformat": 4,
 "nbformat_minor": 5
}
