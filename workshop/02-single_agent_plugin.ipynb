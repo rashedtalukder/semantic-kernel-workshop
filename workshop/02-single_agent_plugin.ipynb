{
 "cells": [
  {
   "cell_type": "markdown",
   "id": "1b4e4f13",
   "metadata": {},
   "source": [
    "# 02 – Plugins\n",
    "Extend your agent with account lookup and plan details plugins."
   ]
  },
  {
   "cell_type": "code",
   "execution_count": null,
   "id": "0899c51f",
   "metadata": {},
   "outputs": [],
   "source": [
    "import uuid\n",
    "from typing import Annotated, Dict\n",
    "from pydantic import BaseModel\n",
    "from semantic_kernel.functions import kernel_function\n",
    "\n",
    "# Mock database for phone number to UUID mapping\n",
    "phone_to_uuid: Dict[str, str] = {}\n",
    "\n",
    "class AccountLookupPlugin:\n",
    "    @kernel_function(description=\"Maps a phone number to a customer UUID.\")\n",
    "    def get_customer_uuid(\n",
    "        self, phone_number: Annotated[str, \"The customer's phone number.\"]\n",
    "    ) -> Annotated[str, \"Returns the UUID for the customer.\"]:\n",
    "        if phone_number not in phone_to_uuid:\n",
    "            phone_to_uuid[phone_number] = str(uuid.uuid4())\n",
    "        return phone_to_uuid[phone_number]\n",
    "\n",
    "class CustomerPlanDetails(BaseModel):\n",
    "    uuid: str\n",
    "    plan_name: str\n",
    "    data_limit_gb: int\n",
    "    unlimited_text: bool\n",
    "    monthly_cost: float\n",
    "\n",
    "# Mock database for UUID to plan details mapping\n",
    "uuid_to_plan: Dict[str, CustomerPlanDetails] = {}\n",
    "\n",
    "class PlanDetailsPlugin:\n",
    "    @kernel_function(description=\"Retrieves mocked phone plan details for a customer UUID.\")\n",
    "    def get_plan_details(\n",
    "        self, customer_uuid: Annotated[str, \"The customer's UUID.\"]\n",
    "    ) -> Annotated[str, \"Returns the customer's phone plan details.\"]:\n",
    "        if customer_uuid not in uuid_to_plan:\n",
    "            # Mock some plan details\n",
    "            uuid_to_plan[customer_uuid] = CustomerPlanDetails(\n",
    "                uuid=customer_uuid,\n",
    "                plan_name=\"Unlimited Plus\",\n",
    "                data_limit_gb=50,\n",
    "                unlimited_text=True,\n",
    "                monthly_cost=79.99\n",
    "            )\n",
    "        details = uuid_to_plan[customer_uuid]\n",
    "        return (\n",
    "            f\"Plan: {details.plan_name}\\n\"\n",
    "            f\"Data Limit: {details.data_limit_gb}GB\\n\"\n",
    "            f\"Unlimited Text: {'Yes' if details.unlimited_text else 'No'}\\n\"\n",
    "            f\"Monthly Cost: ${details.monthly_cost:.2f}\"\n",
    "        )"
   ]
  },
  {
   "cell_type": "code",
   "execution_count": null,
   "id": "1e5ee02c",
   "metadata": {},
   "outputs": [],
   "source": [
    "from semantic_kernel.agents import ChatCompletionAgent\n",
    "from semantic_kernel.connectors.ai.open_ai import AzureChatCompletion\n",
    "\n",
    "agent = ChatCompletionAgent(\n",
    "    service=AzureChatCompletion(),\n",
    "    name=\"CustomerServiceAgent\",\n",
    "    instructions=\"Use plugins to lookup account and plan.\",\n",
    "    plugins=[AccountLookupPlugin(), PlanDetailsPlugin()]\n",
    ")"
   ]
  },
  {
   "cell_type": "code",
   "execution_count": null,
   "id": "4c025ad9",
   "metadata": {},
   "outputs": [],
   "source": [
    "response = await agent.get_response(messages=\"What plan do I have? (555) 123‑4567\")\n",
    "print(response.content)"
   ]
  }
 ],
 "metadata": {
  "kernelspec": {
   "display_name": "agents",
   "language": "python",
   "name": "python3"
  },
  "language_info": {
   "codemirror_mode": {
    "name": "ipython",
    "version": 3
   },
   "file_extension": ".py",
   "mimetype": "text/x-python",
   "name": "python",
   "nbconvert_exporter": "python",
   "pygments_lexer": "ipython3",
   "version": "3.12.9"
  }
 },
 "nbformat": 4,
 "nbformat_minor": 5
}
